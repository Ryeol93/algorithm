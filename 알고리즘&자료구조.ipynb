{
  "nbformat": 4,
  "nbformat_minor": 0,
  "metadata": {
    "colab": {
      "name": "알고리즘&자료구조.ipynb",
      "provenance": [],
      "authorship_tag": "ABX9TyMxPD0LGeQOIs4yC3rvABEL",
      "include_colab_link": true
    },
    "kernelspec": {
      "name": "python3",
      "display_name": "Python 3"
    },
    "language_info": {
      "name": "python"
    }
  },
  "cells": [
    {
      "cell_type": "markdown",
      "metadata": {
        "id": "view-in-github",
        "colab_type": "text"
      },
      "source": [
        "<a href=\"https://colab.research.google.com/github/Ryeol93/algorithm/blob/main/%EC%95%8C%EA%B3%A0%EB%A6%AC%EC%A6%98%26%EC%9E%90%EB%A3%8C%EA%B5%AC%EC%A1%B0.ipynb\" target=\"_parent\"><img src=\"https://colab.research.google.com/assets/colab-badge.svg\" alt=\"Open In Colab\"/></a>"
      ]
    },
    {
      "cell_type": "code",
      "metadata": {
        "id": "OTpYeNje3oqH"
      },
      "source": [
        "# 알고리즘 - 문제 해결 절차. 실생화에서의 알고리즘 예) 요리 레시피, 악보, \n",
        "\n",
        "# 1 부터 n까지의 정수의 합을 구하는 알고리즘.\n",
        "\n",
        "# 1~10까지의 정수\n",
        "# 1 더하기 2 결과 3을 기억한다.\n",
        "# 기억해둔 3에 그 다음 숫자 3을 더한 6을 기억한다.\n",
        "# 기억해둔 6에 그 다음 숫자 4를 더한 10을 기억한다.\n",
        "# .\n",
        "# .\n",
        "# .\n",
        "# .................그 다음 숫자 10을 더한 55를 기억한다.\n",
        "# 마지막 숫자를 출력한다.\n",
        "\n",
        "\n",
        "# n입력   ->    알고리즘   -> 출력(1부터 n까지의 합)"
      ],
      "execution_count": null,
      "outputs": []
    },
    {
      "cell_type": "code",
      "metadata": {
        "colab": {
          "base_uri": "https://localhost:8080/"
        },
        "id": "VfnJ6FMO5Y1S",
        "outputId": "302688a4-32e3-45a2-cf6b-50f89364af51"
      },
      "source": [
        "def sum_n(n):\n",
        "  s = 0\n",
        "  for i in range(1, n+1):\n",
        "    s = s + i\n",
        "    # print('s=',s, 'i=',i )\n",
        "  return s\n",
        "\n",
        "print(sum_n(100))"
      ],
      "execution_count": null,
      "outputs": [
        {
          "output_type": "stream",
          "name": "stdout",
          "text": [
            "5050\n"
          ]
        }
      ]
    },
    {
      "cell_type": "code",
      "metadata": {
        "colab": {
          "base_uri": "https://localhost:8080/"
        },
        "id": "bOQSixXa5yzn",
        "outputId": "3e34bb42-21d1-405e-ffab-ea280b76f267"
      },
      "source": [
        "def sum_m(m):\n",
        "  return m*(m+1) // 2 \n",
        "\n",
        "print(sum_m(100))"
      ],
      "execution_count": null,
      "outputs": [
        {
          "output_type": "stream",
          "name": "stdout",
          "text": [
            "5050\n"
          ]
        }
      ]
    },
    {
      "cell_type": "code",
      "metadata": {
        "colab": {
          "base_uri": "https://localhost:8080/"
        },
        "id": "U3THSp3h60UX",
        "outputId": "c9e84373-b16f-44d8-fc2c-654447ec9edf"
      },
      "source": [
        "# 최대값 찾기\n",
        "# 주어진 숫자 n개중에 가장 큰 수를 찾는 알고리즘.\n",
        "\n",
        "def find_max(a):\n",
        "  n = len(a)\n",
        "  mx = a[0]\n",
        "  for i in range(1, n):\n",
        "    if a[i] > mx:\n",
        "      mx = a[i]\n",
        "      print(mx)\n",
        "  return mx\n",
        "\n",
        "v = [4,6,8,1,3,9]\n",
        "print(find_max(v))"
      ],
      "execution_count": null,
      "outputs": [
        {
          "output_type": "stream",
          "name": "stdout",
          "text": [
            "6\n",
            "8\n",
            "9\n",
            "9\n"
          ]
        }
      ]
    },
    {
      "cell_type": "code",
      "metadata": {
        "colab": {
          "base_uri": "https://localhost:8080/"
        },
        "id": "qrc4kEDZ83DD",
        "outputId": "c2862fb8-cb15-47ac-933e-bd7aadf55fd3"
      },
      "source": [
        "# 최소값 찾기\n",
        "# 주어진 숫자 n개중에 가장 작은 수를 찾는 알고리즘.\n",
        "#[4,6,8,1,3,9]\n",
        "\n",
        "def find_min(a):\n",
        "  n = len(a)\n",
        "  mn = a[0]\n",
        "  for i in range(1, n):\n",
        "    if a[i] < mn:\n",
        "      mn = a[i]\n",
        "  return mn\n",
        "v = [4,6,8,1,3,9]\n",
        "print(find_min(v))"
      ],
      "execution_count": null,
      "outputs": [
        {
          "output_type": "stream",
          "name": "stdout",
          "text": [
            "1\n"
          ]
        }
      ]
    },
    {
      "cell_type": "code",
      "metadata": {
        "colab": {
          "base_uri": "https://localhost:8080/"
        },
        "id": "vAKOmxwa9ffs",
        "outputId": "73517671-07ee-4e87-9c26-0f1f893005d3"
      },
      "source": [
        "# 최대값의 위치 찾기\n",
        "# 주어진 숫자 n개중에 가장 큰 수의 위치 찾는 알고리즘.\n",
        "#[4,6,8,1,3,9] -> 5\n",
        "\n",
        "def find_max_idx(a):\n",
        "  n = len(a)\n",
        "  mxidx = 0       # 0번째로 기준을 잡는다\n",
        "  for i in range(1,n):\n",
        "    if a[i] > a[mxidx]:       # i번째 수가 mxidx보다 큰가?\n",
        "      mxidx = i    # 크면 그 수를 i번째로 바꾼다\n",
        "  return mxidx\n",
        "\n",
        "v = [4,6,8,1,3,9]\n",
        "print(find_max_idx(v))"
      ],
      "execution_count": null,
      "outputs": [
        {
          "output_type": "stream",
          "name": "stdout",
          "text": [
            "5\n"
          ]
        }
      ]
    },
    {
      "cell_type": "code",
      "metadata": {
        "colab": {
          "base_uri": "https://localhost:8080/"
        },
        "id": "LkltnXx5_vaT",
        "outputId": "88b208ef-f8b1-498b-d813-869c1ca806c0"
      },
      "source": [
        "# 최소값의 위치 찾기\n",
        "# 주어진 숫자 n개중에 가장 작은 수의 위치 찾는 알고리즘.\n",
        "#[4,6,8,1,3,9] -> 5\n",
        "\n",
        "def find_min_idx(a):\n",
        "  n = len(a)\n",
        "  mnidx = 0       # min_idx를 0번째로 기준을 잡는다\n",
        "  for i in range(1,n):\n",
        "    if a[i] < a[mnidx]:       # i번째 수가 mnidx보다 작은가?\n",
        "      mnidx = i    # 작으면 그 수를 i번째로 바꾼다\n",
        "  return mnidx\n",
        "\n",
        "v = [4,6,8,1,3,9]\n",
        "print(find_min_idx(v))"
      ],
      "execution_count": null,
      "outputs": [
        {
          "output_type": "stream",
          "name": "stdout",
          "text": [
            "3\n"
          ]
        }
      ]
    },
    {
      "cell_type": "code",
      "metadata": {
        "colab": {
          "base_uri": "https://localhost:8080/"
        },
        "id": "HV11noFJADwN",
        "outputId": "f51c6287-e48e-462e-ff26-e16b8b04704c"
      },
      "source": [
        "# 팩토리얼 구하기\n",
        "\n",
        "# 3! = 1 * 2 * 3 -> 6\n",
        "# 5! = 1 * 2 * 3 * 4 * 5 -> 120\n",
        "\n",
        "def fact(n):\n",
        "  f = 1\n",
        "  for i in range(1,n+1):\n",
        "    f = f * i\n",
        "  return f\n",
        "\n",
        "print(fact(5))"
      ],
      "execution_count": null,
      "outputs": [
        {
          "output_type": "stream",
          "name": "stdout",
          "text": [
            "120\n"
          ]
        }
      ]
    },
    {
      "cell_type": "code",
      "metadata": {
        "id": "QYxA2UGGBPeO"
      },
      "source": [
        "# 재귀 = 좋아 보이지만 프로그램할때 좋지 않다.(메모리 낭비가 심해진다.)\n",
        "\n",
        "def hello():\n",
        "  print(\"Hello\")\n",
        "  hello()\n",
        "\n",
        "hello()"
      ],
      "execution_count": null,
      "outputs": []
    },
    {
      "cell_type": "code",
      "metadata": {
        "colab": {
          "base_uri": "https://localhost:8080/"
        },
        "id": "lNivSA9TBzHo",
        "outputId": "2ff11c6f-5e49-45bc-be9f-2bc4cf041f33"
      },
      "source": [
        "def fact(m):\n",
        "  if m <= 1:\n",
        "    return 1\n",
        "  return m * fact(m-1)\n",
        "\n",
        "fact(5)"
      ],
      "execution_count": null,
      "outputs": [
        {
          "output_type": "execute_result",
          "data": {
            "text/plain": [
              "120"
            ]
          },
          "metadata": {},
          "execution_count": 17
        }
      ]
    },
    {
      "cell_type": "code",
      "metadata": {
        "colab": {
          "base_uri": "https://localhost:8080/"
        },
        "id": "1lZcrs6OF0Jy",
        "outputId": "eb596934-0b84-4354-a5a8-f2f89214a39b"
      },
      "source": [
        "# 자료구조- 데이터와 정보를 컴퓨터에 저장하고 보관하는 방식.\n",
        "#           알고리즘 문제를 풀려면 주어진 자료를 효율적으로 정리해서 보관하는 것이 필수\n",
        "\n",
        "# 회문찾기 palindrome   큐와 스택\n",
        "# 역삼역\n",
        "# 기러기\n",
        "# 일요일\n",
        "# 사진사\n",
        "# 기특한 특기\n",
        "# 다시 합창 합시다\n",
        "\n",
        "# 큐 que\n",
        "# 줄서기 - 먼저 온 사람이 먼저 택시를 탄다. First in First out\n",
        "\n",
        "    # 1 2 3 4             1 2 3 4 \n",
        "\n",
        "    # in - enqueue        out - dequeue\n",
        "\n",
        "# 스택 stack\n",
        "# 접시쌓기 - 맨 위에 있는 접시부터 처리. Last in First out\n",
        "\n",
        "    # 1 2 3 4             4 3 2 1 \n",
        "\n",
        "    # in - push           out - pop\n",
        "\n",
        "  \n",
        "# 회문찾기\n",
        "\n",
        "#   <- w   o   w\n",
        "# 큐 w  ==  스택 w\n",
        "#      w   o   w ->\n",
        "\n",
        "\n",
        "def palin(s):\n",
        "  qu = []\n",
        "  st = []\n",
        "\n",
        "  # 1단계 - 각각 큐와 스택에 넣는다. \n",
        "  for x in s:\n",
        "    if x.isalpha():  # 숫자, 기호, 특수문자가 아니면\n",
        "      qu.append(x.lower())\n",
        "      st.append(x.lower())\n",
        "  # 2 단계 - 큐와 스택에 들어 있는 문자를 꺼내면서 비교\n",
        "  while qu:  #큐에 문자가 있는 만큼만 반복\n",
        "    if qu.pop(0) != st.pop(): \n",
        "      return False\n",
        "  return True\n",
        "\n",
        "print(palin(\"wow\"))\n",
        "print(palin(\"madam, i'm adam\"))\n",
        "print(palin(\"madam, iam adam\"))\n"
      ],
      "execution_count": null,
      "outputs": [
        {
          "output_type": "stream",
          "name": "stdout",
          "text": [
            "True\n",
            "True\n",
            "False\n"
          ]
        }
      ]
    },
    {
      "cell_type": "code",
      "metadata": {
        "id": "YT51ocW5L684"
      },
      "source": [
        ""
      ],
      "execution_count": null,
      "outputs": []
    }
  ]
}